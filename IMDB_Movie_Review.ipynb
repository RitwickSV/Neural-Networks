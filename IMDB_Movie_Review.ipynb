{
  "nbformat": 4,
  "nbformat_minor": 0,
  "metadata": {
    "colab": {
      "name": "IMDB-Movie-Review.ipynb",
      "provenance": [],
      "collapsed_sections": [],
      "authorship_tag": "ABX9TyM31bbxlV+p9sAKhQtmrpC1",
      "include_colab_link": true
    },
    "kernelspec": {
      "name": "python3",
      "display_name": "Python 3"
    },
    "language_info": {
      "name": "python"
    }
  },
  "cells": [
    {
      "cell_type": "markdown",
      "metadata": {
        "id": "view-in-github",
        "colab_type": "text"
      },
      "source": [
        "<a href=\"https://colab.research.google.com/github/RitwickSV/Neural-Networks/blob/main/IMDB_Movie_Review.ipynb\" target=\"_parent\"><img src=\"https://colab.research.google.com/assets/colab-badge.svg\" alt=\"Open In Colab\"/></a>"
      ]
    },
    {
      "cell_type": "markdown",
      "metadata": {
        "id": "NeX92d3klkgm"
      },
      "source": [
        "# Importing Necessary packages\n",
        "\n",
        "\n"
      ]
    },
    {
      "cell_type": "code",
      "metadata": {
        "id": "MAT9-92HWVJV"
      },
      "source": [
        "import numpy as np\n",
        "import keras\n",
        "from keras import models, layers\n",
        "from keras.datasets import imdb"
      ],
      "execution_count": 15,
      "outputs": []
    },
    {
      "cell_type": "markdown",
      "metadata": {
        "id": "hrOVEfGOl6ec"
      },
      "source": [
        "# Import Data"
      ]
    },
    {
      "cell_type": "code",
      "metadata": {
        "colab": {
          "base_uri": "https://localhost:8080/"
        },
        "id": "D8Nl27FlXGwo",
        "outputId": "7ddf9bd3-6730-4030-a7bc-798b7b706050"
      },
      "source": [
        "#Keeps only the top 10000 most occurring words in the vector form so it is easy for processing\n",
        "(train_data, train_labels),(test_data, test_labels) = imdb.load_data(num_words = 10000)"
      ],
      "execution_count": 16,
      "outputs": [
        {
          "output_type": "stream",
          "text": [
            "<string>:6: VisibleDeprecationWarning: Creating an ndarray from ragged nested sequences (which is a list-or-tuple of lists-or-tuples-or ndarrays with different lengths or shapes) is deprecated. If you meant to do this, you must specify 'dtype=object' when creating the ndarray\n",
            "/usr/local/lib/python3.7/dist-packages/keras/datasets/imdb.py:155: VisibleDeprecationWarning: Creating an ndarray from ragged nested sequences (which is a list-or-tuple of lists-or-tuples-or ndarrays with different lengths or shapes) is deprecated. If you meant to do this, you must specify 'dtype=object' when creating the ndarray\n",
            "  x_train, y_train = np.array(xs[:idx]), np.array(labels[:idx])\n",
            "/usr/local/lib/python3.7/dist-packages/keras/datasets/imdb.py:156: VisibleDeprecationWarning: Creating an ndarray from ragged nested sequences (which is a list-or-tuple of lists-or-tuples-or ndarrays with different lengths or shapes) is deprecated. If you meant to do this, you must specify 'dtype=object' when creating the ndarray\n",
            "  x_test, y_test = np.array(xs[idx:]), np.array(labels[idx:])\n"
          ],
          "name": "stderr"
        }
      ]
    },
    {
      "cell_type": "markdown",
      "metadata": {
        "id": "V0qGoCRzmDxj"
      },
      "source": [
        "# Understanding the data"
      ]
    },
    {
      "cell_type": "code",
      "metadata": {
        "colab": {
          "base_uri": "https://localhost:8080/"
        },
        "id": "Kx1XQeoAmMv1",
        "outputId": "8ec25a9e-c5b7-4b4e-eedb-1d20b8e01592"
      },
      "source": [
        "print(train_data[0])\n",
        "print(len(train_data))"
      ],
      "execution_count": 17,
      "outputs": [
        {
          "output_type": "stream",
          "text": [
            "[1, 14, 22, 16, 43, 530, 973, 1622, 1385, 65, 458, 4468, 66, 3941, 4, 173, 36, 256, 5, 25, 100, 43, 838, 112, 50, 670, 2, 9, 35, 480, 284, 5, 150, 4, 172, 112, 167, 2, 336, 385, 39, 4, 172, 4536, 1111, 17, 546, 38, 13, 447, 4, 192, 50, 16, 6, 147, 2025, 19, 14, 22, 4, 1920, 4613, 469, 4, 22, 71, 87, 12, 16, 43, 530, 38, 76, 15, 13, 1247, 4, 22, 17, 515, 17, 12, 16, 626, 18, 2, 5, 62, 386, 12, 8, 316, 8, 106, 5, 4, 2223, 5244, 16, 480, 66, 3785, 33, 4, 130, 12, 16, 38, 619, 5, 25, 124, 51, 36, 135, 48, 25, 1415, 33, 6, 22, 12, 215, 28, 77, 52, 5, 14, 407, 16, 82, 2, 8, 4, 107, 117, 5952, 15, 256, 4, 2, 7, 3766, 5, 723, 36, 71, 43, 530, 476, 26, 400, 317, 46, 7, 4, 2, 1029, 13, 104, 88, 4, 381, 15, 297, 98, 32, 2071, 56, 26, 141, 6, 194, 7486, 18, 4, 226, 22, 21, 134, 476, 26, 480, 5, 144, 30, 5535, 18, 51, 36, 28, 224, 92, 25, 104, 4, 226, 65, 16, 38, 1334, 88, 12, 16, 283, 5, 16, 4472, 113, 103, 32, 15, 16, 5345, 19, 178, 32]\n",
            "25000\n"
          ],
          "name": "stdout"
        }
      ]
    },
    {
      "cell_type": "markdown",
      "metadata": {
        "id": "gR33XCwGmNk1"
      },
      "source": [
        "This data contains the words which are hot encoded to have the review stored.\n",
        "We can also obtain the original review from the data we have."
      ]
    },
    {
      "cell_type": "code",
      "metadata": {
        "colab": {
          "base_uri": "https://localhost:8080/"
        },
        "id": "AOn0yZ00mQ2E",
        "outputId": "a5d24fe2-90f6-4bb0-d6ee-f42a54b844db"
      },
      "source": [
        "word_index = imdb.get_word_index()\n",
        "reverse_word_index = dict([(value, key) for (key, value) in word_index.items()])\n",
        "decoded_review = \" \".join([reverse_word_index.get(i-3, '?') for i in train_data[0]])\n",
        "print(decoded_review)"
      ],
      "execution_count": 18,
      "outputs": [
        {
          "output_type": "stream",
          "text": [
            "? this film was just brilliant casting location scenery story direction everyone's really suited the part they played and you could just imagine being there robert ? is an amazing actor and now the same being director ? father came from the same scottish island as myself so i loved the fact there was a real connection with this film the witty remarks throughout the film were great it was just brilliant so much that i bought the film as soon as it was released for ? and would recommend it to everyone to watch and the fly fishing was amazing really cried at the end it was so sad and you know what they say if you cry at a film it must have been good and this definitely was also ? to the two little boy's that played the ? of norman and paul they were just brilliant children are often left out of the ? list i think because the stars that play them all grown up are such a big profile for the whole film but these children are amazing and should be praised for what they have done don't you think the whole story was so lovely because it was true and was someone's life after all that was shared with us all\n"
          ],
          "name": "stdout"
        }
      ]
    },
    {
      "cell_type": "markdown",
      "metadata": {
        "id": "HOppYP65YnRe"
      },
      "source": [
        "# Preparing data to be fit into the model\n",
        "\n",
        "The train_data, contains the numbers corresponding to the sequences of the words and the train_labels contain 0 or 1 to state whether the review is negative or positive. Let's hot encode the input so that they are converted into tensors.\n",
        "We can either\n",
        "*   Pad all the samples in the train data and make them equal length or \n",
        "*   One hot encode all the data into vectors.\n",
        "\n",
        "Let's choose the 2nd option.\n",
        "\n"
      ]
    },
    {
      "cell_type": "code",
      "metadata": {
        "id": "iq98brP6XuFd"
      },
      "source": [
        "def words2vectors(reviews, dimension = 10000):\n",
        "    data = np.zeros((len(reviews), dimension))\n",
        "    for i, review in enumerate(reviews):\n",
        "        data[i,review] = 1\n",
        "    return data\n",
        "\n",
        "x_train = words2vectors(train_data)\n",
        "x_test = words2vectors(test_data)\n",
        "y_train = np.asarray(train_labels).astype('float32')\n",
        "y_test = np.asarray(test_labels).astype('float32')"
      ],
      "execution_count": 19,
      "outputs": []
    },
    {
      "cell_type": "code",
      "metadata": {
        "id": "9eII2_xnZsOT",
        "colab": {
          "base_uri": "https://localhost:8080/"
        },
        "outputId": "3192b84f-4f98-4133-89ba-5e3bbf801d22"
      },
      "source": [
        "print(x_train[0])"
      ],
      "execution_count": 20,
      "outputs": [
        {
          "output_type": "stream",
          "text": [
            "[0. 1. 1. ... 0. 0. 0.]\n"
          ],
          "name": "stdout"
        }
      ]
    },
    {
      "cell_type": "markdown",
      "metadata": {
        "id": "Vo6gPs8GnJA-"
      },
      "source": [
        "# Building the Model\n",
        "\n",
        "We build our model using 2 hidden layers with 16 units each and a final layer which gives us the output.\n",
        "\n",
        "We are using the relu activation function for the hidden layers, which nullifies all the values below zeros and the sigmoid function to the output layer which gives us the probability of each of the occurrence of the output. "
      ]
    },
    {
      "cell_type": "code",
      "metadata": {
        "id": "hBZ2WnPWnSPx"
      },
      "source": [
        "model = models.Sequential()\n",
        "model.add(layers.Dense(16, activation = 'relu', input_shape = ((10000,))))\n",
        "model.add(layers.Dense(16, activation = 'relu'))\n",
        "model.add(layers.Dense(1, activation = 'sigmoid'))\n"
      ],
      "execution_count": 21,
      "outputs": []
    },
    {
      "cell_type": "markdown",
      "metadata": {
        "id": "sxs_hK6Xo92d"
      },
      "source": [
        "# Compile the model\n",
        "\n",
        "We will be using the rmsprop optimiser and the binary_crossentropy since this is just a 2 class classification problem"
      ]
    },
    {
      "cell_type": "code",
      "metadata": {
        "id": "X_WRZ-WVoH3W"
      },
      "source": [
        "model.compile(optimizer='rmsprop', loss='binary_crossentropy', metrics=['accuracy'])"
      ],
      "execution_count": 22,
      "outputs": []
    },
    {
      "cell_type": "markdown",
      "metadata": {
        "id": "pSQ9f0XXpgWD"
      },
      "source": [
        "Let's set aside a validation set before we test."
      ]
    },
    {
      "cell_type": "code",
      "metadata": {
        "id": "uMP9oPR_pWao"
      },
      "source": [
        "x_val = x_train[:10000]\n",
        "partial_x_train = x_train[10000:]\n",
        "y_val = y_train[:10000]\n",
        "partial_y_train = y_train[10000:]"
      ],
      "execution_count": 23,
      "outputs": []
    },
    {
      "cell_type": "code",
      "metadata": {
        "colab": {
          "base_uri": "https://localhost:8080/"
        },
        "id": "5BdKga18qd1A",
        "outputId": "a8814ab0-ebee-4642-8cf9-18fd7818ff27"
      },
      "source": [
        "model_summary = model.fit(partial_x_train, partial_y_train, epochs = 20, batch_size = 512, validation_data=(x_val,y_val))"
      ],
      "execution_count": 24,
      "outputs": [
        {
          "output_type": "stream",
          "text": [
            "Epoch 1/20\n",
            "30/30 [==============================] - 15s 41ms/step - loss: 0.5796 - accuracy: 0.7055 - val_loss: 0.3741 - val_accuracy: 0.8615\n",
            "Epoch 2/20\n",
            "30/30 [==============================] - 1s 22ms/step - loss: 0.3052 - accuracy: 0.9035 - val_loss: 0.2978 - val_accuracy: 0.8900\n",
            "Epoch 3/20\n",
            "30/30 [==============================] - 1s 22ms/step - loss: 0.2180 - accuracy: 0.9289 - val_loss: 0.3281 - val_accuracy: 0.8652\n",
            "Epoch 4/20\n",
            "30/30 [==============================] - 1s 23ms/step - loss: 0.1686 - accuracy: 0.9461 - val_loss: 0.2794 - val_accuracy: 0.8896\n",
            "Epoch 5/20\n",
            "30/30 [==============================] - 1s 22ms/step - loss: 0.1342 - accuracy: 0.9578 - val_loss: 0.2847 - val_accuracy: 0.8879\n",
            "Epoch 6/20\n",
            "30/30 [==============================] - 1s 23ms/step - loss: 0.1080 - accuracy: 0.9688 - val_loss: 0.3087 - val_accuracy: 0.8816\n",
            "Epoch 7/20\n",
            "30/30 [==============================] - 1s 22ms/step - loss: 0.0933 - accuracy: 0.9726 - val_loss: 0.3484 - val_accuracy: 0.8758\n",
            "Epoch 8/20\n",
            "30/30 [==============================] - 1s 22ms/step - loss: 0.0741 - accuracy: 0.9825 - val_loss: 0.3428 - val_accuracy: 0.8814\n",
            "Epoch 9/20\n",
            "30/30 [==============================] - 1s 22ms/step - loss: 0.0641 - accuracy: 0.9826 - val_loss: 0.3622 - val_accuracy: 0.8794\n",
            "Epoch 10/20\n",
            "30/30 [==============================] - 1s 23ms/step - loss: 0.0532 - accuracy: 0.9881 - val_loss: 0.3832 - val_accuracy: 0.8757\n",
            "Epoch 11/20\n",
            "30/30 [==============================] - 1s 22ms/step - loss: 0.0409 - accuracy: 0.9919 - val_loss: 0.4144 - val_accuracy: 0.8741\n",
            "Epoch 12/20\n",
            "30/30 [==============================] - 1s 23ms/step - loss: 0.0341 - accuracy: 0.9939 - val_loss: 0.4469 - val_accuracy: 0.8699\n",
            "Epoch 13/20\n",
            "30/30 [==============================] - 1s 22ms/step - loss: 0.0277 - accuracy: 0.9951 - val_loss: 0.4882 - val_accuracy: 0.8657\n",
            "Epoch 14/20\n",
            "30/30 [==============================] - 1s 22ms/step - loss: 0.0215 - accuracy: 0.9973 - val_loss: 0.5042 - val_accuracy: 0.8717\n",
            "Epoch 15/20\n",
            "30/30 [==============================] - 1s 22ms/step - loss: 0.0151 - accuracy: 0.9986 - val_loss: 0.5527 - val_accuracy: 0.8692\n",
            "Epoch 16/20\n",
            "30/30 [==============================] - 1s 22ms/step - loss: 0.0180 - accuracy: 0.9966 - val_loss: 0.5708 - val_accuracy: 0.8666\n",
            "Epoch 17/20\n",
            "30/30 [==============================] - 1s 22ms/step - loss: 0.0120 - accuracy: 0.9984 - val_loss: 0.5974 - val_accuracy: 0.8659\n",
            "Epoch 18/20\n",
            "30/30 [==============================] - 1s 22ms/step - loss: 0.0073 - accuracy: 0.9996 - val_loss: 0.6786 - val_accuracy: 0.8553\n",
            "Epoch 19/20\n",
            "30/30 [==============================] - 1s 23ms/step - loss: 0.0089 - accuracy: 0.9992 - val_loss: 0.6655 - val_accuracy: 0.8635\n",
            "Epoch 20/20\n",
            "30/30 [==============================] - 1s 23ms/step - loss: 0.0047 - accuracy: 0.9997 - val_loss: 0.7085 - val_accuracy: 0.8659\n"
          ],
          "name": "stdout"
        }
      ]
    },
    {
      "cell_type": "markdown",
      "metadata": {
        "id": "5jyfwmAIrNCj"
      },
      "source": [
        "# Plotting to find the best epoch value\n",
        "\n",
        "The `model_summary` value contains a parameter history which has the values of the loss and accuracy of the training and the validation. We will be using the parameters to attain the optimised value of the epoch for building the model."
      ]
    },
    {
      "cell_type": "code",
      "metadata": {
        "colab": {
          "base_uri": "https://localhost:8080/"
        },
        "id": "I0seAlIwqrld",
        "outputId": "72dd037c-0aa3-4366-cb44-e8c6c8775d24"
      },
      "source": [
        "history_dict = model_summary.history\n",
        "print(history_dict.keys())"
      ],
      "execution_count": 25,
      "outputs": [
        {
          "output_type": "stream",
          "text": [
            "dict_keys(['loss', 'accuracy', 'val_loss', 'val_accuracy'])\n"
          ],
          "name": "stdout"
        }
      ]
    },
    {
      "cell_type": "code",
      "metadata": {
        "id": "6NFROljlrlK8"
      },
      "source": [
        "import matplotlib.pyplot as plt\n",
        "import seaborn as sns\n"
      ],
      "execution_count": 26,
      "outputs": []
    },
    {
      "cell_type": "code",
      "metadata": {
        "colab": {
          "base_uri": "https://localhost:8080/",
          "height": 497
        },
        "id": "xYHmjll4rvNi",
        "outputId": "a9a804da-ae0d-47bb-8392-4731942c0b22"
      },
      "source": [
        "loss_values = history_dict['loss']\n",
        "val_loss_values = history_dict['val_loss']\n",
        "epochs = range(1, len(loss_values)+1)\n",
        "\n",
        "plt.figure(figsize = (14,8))\n",
        "sns.lineplot(x = epochs, y = loss_values, color = 'blue', label = 'training loss')\n",
        "sns.scatterplot(x = epochs, y = val_loss_values, color = 'red', label = 'validation loss')\n",
        "plt.legend()\n",
        "plt.xlabel('Epochs')\n",
        "plt.ylabel('Loss')\n",
        "plt.show()"
      ],
      "execution_count": 34,
      "outputs": [
        {
          "output_type": "display_data",
          "data": {
            "image/png": "[encoded data removed]",
            "text/plain": [
              "<Figure size 1008x576 with 1 Axes>"
            ]
          },
          "metadata": {
            "tags": [],
            "needs_background": "light"
          }
        }
      ]
    },
    {
      "cell_type": "code",
      "metadata": {
        "colab": {
          "base_uri": "https://localhost:8080/",
          "height": 497
        },
        "id": "7lIW0keatGIV",
        "outputId": "2582c4e0-5f98-4875-da05-f29b01203625"
      },
      "source": [
        "acc_values = history_dict['accuracy']\n",
        "val_acc_values = history_dict['val_accuracy']\n",
        "epochs = range(1, len(acc_values)+1)\n",
        "\n",
        "plt.figure(figsize = (14,8))\n",
        "sns.lineplot(x = epochs, y = acc_values, color = 'blue', label = 'training accuracy')\n",
        "sns.scatterplot(x = epochs, y = val_acc_values, color = 'red', label = 'validation accuracy')\n",
        "plt.legend()\n",
        "plt.xlabel('Epochs')\n",
        "plt.ylabel('accuracy')\n",
        "plt.show()"
      ],
      "execution_count": 36,
      "outputs": [
        {
          "output_type": "display_data",
          "data": {
            "image/png": "[encoded data removed]",
            "text/plain": [
              "<Figure size 1008x576 with 1 Axes>"
            ]
          },
          "metadata": {
            "tags": [],
            "needs_background": "light"
          }
        }
      ]
    },
    {
      "cell_type": "markdown",
      "metadata": {
        "id": "bdRgBGBivMud"
      },
      "source": [
        "We can see that the loss starts increasing and the accuracy starts decreasing from around after the 4th epoch for the validation data.\n",
        "\n",
        "Hence, we can build our model afresh using the epoch value to be 4."
      ]
    },
    {
      "cell_type": "code",
      "metadata": {
        "colab": {
          "base_uri": "https://localhost:8080/"
        },
        "id": "M-u27GTgvHD5",
        "outputId": "ac0f9286-6782-4fd2-d9d9-05982cc0dca4"
      },
      "source": [
        "model = models.Sequential()\n",
        "model.add(layers.Dense(16, activation = 'relu', input_shape = ((10000,))))\n",
        "model.add(layers.Dense(16, activation = 'relu'))\n",
        "model.add(layers.Dense(1, activation = 'sigmoid'))\n",
        "model.compile(optimizer='rmsprop', loss='binary_crossentropy', metrics=['accuracy'])\n",
        "model.fit(partial_x_train, partial_y_train, epochs = 4, batch_size = 512, validation_data=(x_val,y_val))\n"
      ],
      "execution_count": 37,
      "outputs": [
        {
          "output_type": "stream",
          "text": [
            "Epoch 1/4\n",
            "30/30 [==============================] - 2s 48ms/step - loss: 0.5924 - accuracy: 0.6985 - val_loss: 0.3939 - val_accuracy: 0.8710\n",
            "Epoch 2/4\n",
            "30/30 [==============================] - 1s 22ms/step - loss: 0.3324 - accuracy: 0.9023 - val_loss: 0.3323 - val_accuracy: 0.8724\n",
            "Epoch 3/4\n",
            "30/30 [==============================] - 1s 22ms/step - loss: 0.2381 - accuracy: 0.9287 - val_loss: 0.2931 - val_accuracy: 0.8847\n",
            "Epoch 4/4\n",
            "30/30 [==============================] - 1s 22ms/step - loss: 0.1821 - accuracy: 0.9469 - val_loss: 0.2842 - val_accuracy: 0.8877\n"
          ],
          "name": "stdout"
        },
        {
          "output_type": "execute_result",
          "data": {
            "text/plain": [
              "<keras.callbacks.History at 0x7fa6ed5f5a50>"
            ]
          },
          "metadata": {
            "tags": []
          },
          "execution_count": 37
        }
      ]
    },
    {
      "cell_type": "code",
      "metadata": {
        "colab": {
          "base_uri": "https://localhost:8080/"
        },
        "id": "FMsKKslCv0iK",
        "outputId": "5a79f13f-eaf9-44c2-849f-1450d6a155d1"
      },
      "source": [
        "result = model.evaluate(x_test,y_test) #to evaluate the prediction capacity of our model on the test data.\n",
        "print(result)"
      ],
      "execution_count": 38,
      "outputs": [
        {
          "output_type": "stream",
          "text": [
            "782/782 [==============================] - 1s 1ms/step - loss: 0.3003 - accuracy: 0.8784\n",
            "[0.30030348896980286, 0.8784000277519226]\n"
          ],
          "name": "stdout"
        }
      ]
    },
    {
      "cell_type": "markdown",
      "metadata": {
        "id": "psfvI40bwLhT"
      },
      "source": [
        "We can use different activation functions in the hidden layers, or increase the units or the hidden layers in our model and experiment with various types of losses to find if there is any model with more accuracy"
      ]
    },
    {
      "cell_type": "code",
      "metadata": {
        "id": "y1_SqJE0v8_F"
      },
      "source": [
        ""
      ],
      "execution_count": null,
      "outputs": []
    }
  ]
}