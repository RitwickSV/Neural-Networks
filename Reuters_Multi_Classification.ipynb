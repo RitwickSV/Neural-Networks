{
  "nbformat": 4,
  "nbformat_minor": 0,
  "metadata": {
    "colab": {
      "name": "Reuters-Multi-Classification.ipynb",
      "provenance": [],
      "collapsed_sections": [],
      "authorship_tag": "ABX9TyNplQfoR5JZSIBjmUkvWrGt",
      "include_colab_link": true
    },
    "kernelspec": {
      "name": "python3",
      "display_name": "Python 3"
    },
    "language_info": {
      "name": "python"
    }
  },
  "cells": [
    {
      "cell_type": "markdown",
      "metadata": {
        "id": "view-in-github",
        "colab_type": "text"
      },
      "source": [
        "<a href=\"https://colab.research.google.com/github/RitwickSV/Neural-Networks/blob/main/Reuters_Multi_Classification.ipynb\" target=\"_parent\"><img src=\"https://colab.research.google.com/assets/colab-badge.svg\" alt=\"Open In Colab\"/></a>"
      ]
    },
    {
      "cell_type": "markdown",
      "metadata": {
        "id": "5byRbymT39zZ"
      },
      "source": [
        "# Importing Necessary packages"
      ]
    },
    {
      "cell_type": "code",
      "metadata": {
        "id": "LqF1hEdI4nzH"
      },
      "source": [
        "import numpy as np\n",
        "import keras\n",
        "from keras import models, layers\n",
        "from keras.datasets import reuters"
      ],
      "execution_count": 1,
      "outputs": []
    },
    {
      "cell_type": "markdown",
      "metadata": {
        "id": "byHGR-As4sNK"
      },
      "source": [
        "# Import Data"
      ]
    },
    {
      "cell_type": "code",
      "metadata": {
        "colab": {
          "base_uri": "https://localhost:8080/"
        },
        "id": "xMK3Iik946Dl",
        "outputId": "b9147d15-de8f-4e4d-f95a-291a565fe92e"
      },
      "source": [
        "(train_data, train_labels),(test_data, test_labels) = reuters.load_data(num_words = 10000)"
      ],
      "execution_count": 2,
      "outputs": [
        {
          "output_type": "stream",
          "text": [
            "Downloading data from https://storage.googleapis.com/tensorflow/tf-keras-datasets/reuters.npz\n",
            "2113536/2110848 [==============================] - 0s 0us/step\n",
            "2121728/2110848 [==============================] - 0s 0us/step\n"
          ],
          "name": "stdout"
        },
        {
          "output_type": "stream",
          "text": [
            "/usr/local/lib/python3.7/dist-packages/keras/datasets/reuters.py:143: VisibleDeprecationWarning: Creating an ndarray from ragged nested sequences (which is a list-or-tuple of lists-or-tuples-or ndarrays with different lengths or shapes) is deprecated. If you meant to do this, you must specify 'dtype=object' when creating the ndarray\n",
            "  x_train, y_train = np.array(xs[:idx]), np.array(labels[:idx])\n",
            "/usr/local/lib/python3.7/dist-packages/keras/datasets/reuters.py:144: VisibleDeprecationWarning: Creating an ndarray from ragged nested sequences (which is a list-or-tuple of lists-or-tuples-or ndarrays with different lengths or shapes) is deprecated. If you meant to do this, you must specify 'dtype=object' when creating the ndarray\n",
            "  x_test, y_test = np.array(xs[idx:]), np.array(labels[idx:])\n"
          ],
          "name": "stderr"
        }
      ]
    },
    {
      "cell_type": "markdown",
      "metadata": {
        "id": "PR63lz_S5I3B"
      },
      "source": [
        "# Understanding the data"
      ]
    },
    {
      "cell_type": "code",
      "metadata": {
        "colab": {
          "base_uri": "https://localhost:8080/"
        },
        "id": "9rBoSE8S5LgE",
        "outputId": "898d7177-3ebe-42ea-d707-ee805d023a8f"
      },
      "source": [
        "print(train_data[0])\n",
        "print(len(train_data))"
      ],
      "execution_count": 5,
      "outputs": [
        {
          "output_type": "stream",
          "text": [
            "[1, 2, 2, 8, 43, 10, 447, 5, 25, 207, 270, 5, 3095, 111, 16, 369, 186, 90, 67, 7, 89, 5, 19, 102, 6, 19, 124, 15, 90, 67, 84, 22, 482, 26, 7, 48, 4, 49, 8, 864, 39, 209, 154, 6, 151, 6, 83, 11, 15, 22, 155, 11, 15, 7, 48, 9, 4579, 1005, 504, 6, 258, 6, 272, 11, 15, 22, 134, 44, 11, 15, 16, 8, 197, 1245, 90, 67, 52, 29, 209, 30, 32, 132, 6, 109, 15, 17, 12]\n",
            "8982\n"
          ],
          "name": "stdout"
        }
      ]
    },
    {
      "cell_type": "markdown",
      "metadata": {
        "id": "HGAWRTYn5OOm"
      },
      "source": [
        "This data contains the words which are hot encoded to have the news stored. We can also obtain the original news from the data we have."
      ]
    },
    {
      "cell_type": "code",
      "metadata": {
        "colab": {
          "base_uri": "https://localhost:8080/"
        },
        "id": "Co5Sgey85Sdn",
        "outputId": "5455cd62-de9d-409d-de2c-e6d01dd05e94"
      },
      "source": [
        "word_index = reuters.get_word_index()\n",
        "reverse_word_index = dict([(value, key) for (key, value) in word_index.items()])\n",
        "decoded_review = \" \".join([reverse_word_index.get(i-3, '?') for i in train_data[0]])\n",
        "print(decoded_review)"
      ],
      "execution_count": 8,
      "outputs": [
        {
          "output_type": "stream",
          "text": [
            "? ? ? said as a result of its december acquisition of space co it expects earnings per share in 1987 of 1 15 to 1 30 dlrs per share up from 70 cts in 1986 the company said pretax net should rise to nine to 10 mln dlrs from six mln dlrs in 1986 and rental operation revenues to 19 to 22 mln dlrs from 12 5 mln dlrs it said cash flow per share this year should be 2 50 to three dlrs reuter 3\n"
          ],
          "name": "stdout"
        }
      ]
    },
    {
      "cell_type": "markdown",
      "metadata": {
        "id": "sPQaKKOE5h_M"
      },
      "source": [
        "# Preparing data to be fit into the model\n",
        "The train_data, contains the numbers corresponding to the sequences of the words and the train_labels contains the class. Let's hot encode the input so that they are converted into tensors. We can either\n",
        "\n",
        " * Pad all the samples in the train data and make them equal length or\n",
        " * One hot encode all the data into vectors.\n",
        "Let's choose the 2nd option.\n",
        "\n",
        "For the labels data we also need to one hot encode the labels to match the output loss that we will be using `categorical_crossentropy`\n",
        "\n",
        "If we do not want to use one hot encoding we can pass the labels as integers using `np.array()` and use the loss `sparse_categorical_crossentropy`"
      ]
    },
    {
      "cell_type": "code",
      "metadata": {
        "id": "rbbRdZ-v6E1Y"
      },
      "source": [
        "from keras.utils.np_utils import to_categorical\n",
        "\n",
        "def vectorize_sequences(sequences, dimension = 10000):\n",
        "  result = np.zeros((len(sequences), dimension))\n",
        "  for i,sequence in enumerate(sequences):\n",
        "    result[i,sequence] = 1\n",
        "  return result\n",
        "\n",
        "x_train = vectorize_sequences(train_data)\n",
        "x_test = vectorize_sequences(test_data)\n",
        "y_train = to_categorical(train_labels)\n",
        "y_test = to_categorical(test_labels)\n",
        "\n"
      ],
      "execution_count": 9,
      "outputs": []
    },
    {
      "cell_type": "markdown",
      "metadata": {
        "id": "mEyhlbgw7AAP"
      },
      "source": [
        "# Building the Model\n",
        "\n",
        "We build our model using 2 hidden layers with 64 units each and a final layer which gives us the output.\n",
        "\n",
        "We are using the relu activation function for the hidden layers, which nullifies all the values below zeros and the softmax function to the output layer which gives us the probability of each of the occurrence of the output."
      ]
    },
    {
      "cell_type": "code",
      "metadata": {
        "id": "rT27-Ttw7QEB"
      },
      "source": [
        "model = models.Sequential()\n",
        "model.add(layers.Dense(64, activation = 'relu', input_shape = ((10000,))))\n",
        "model.add(layers.Dense(64, activation = 'relu'))\n",
        "model.add(layers.Dense(46, activation = 'softmax'))"
      ],
      "execution_count": 10,
      "outputs": []
    },
    {
      "cell_type": "markdown",
      "metadata": {
        "id": "S75DyHrh7eHd"
      },
      "source": [
        "# Compile the model\n",
        "\n",
        "We will be using the rmsprop optimiser and the categorical_crossentropy since this is a multi-class classification problem"
      ]
    },
    {
      "cell_type": "code",
      "metadata": {
        "id": "SkcnnbI-7ieT"
      },
      "source": [
        "model.compile(optimizer='rmsprop', loss='categorical_crossentropy', metrics=['accuracy'])"
      ],
      "execution_count": 11,
      "outputs": []
    },
    {
      "cell_type": "markdown",
      "metadata": {
        "id": "HdgWZBHA7uDC"
      },
      "source": [
        "Let's set aside a validation set before we test."
      ]
    },
    {
      "cell_type": "code",
      "metadata": {
        "id": "pEpDWbIQ7ybG"
      },
      "source": [
        "x_val = x_train[:1000]\n",
        "partial_x_train = x_train[1000:]\n",
        "y_val = y_train[:1000]\n",
        "partial_y_train = y_train[1000:]"
      ],
      "execution_count": 12,
      "outputs": []
    },
    {
      "cell_type": "code",
      "metadata": {
        "colab": {
          "base_uri": "https://localhost:8080/"
        },
        "id": "t7cCACzA72HO",
        "outputId": "724eb1aa-7cb3-4c4e-d992-bd336e457996"
      },
      "source": [
        "model_summary = model.fit(partial_x_train, partial_y_train, epochs = 20, batch_size = 512, validation_data=(x_val,y_val))"
      ],
      "execution_count": 13,
      "outputs": [
        {
          "output_type": "stream",
          "text": [
            "Epoch 1/20\n",
            "16/16 [==============================] - 15s 84ms/step - loss: 3.1080 - accuracy: 0.3959 - val_loss: 1.7660 - val_accuracy: 0.6120\n",
            "Epoch 2/20\n",
            "16/16 [==============================] - 1s 47ms/step - loss: 1.5330 - accuracy: 0.6748 - val_loss: 1.3082 - val_accuracy: 0.7080\n",
            "Epoch 3/20\n",
            "16/16 [==============================] - 1s 47ms/step - loss: 1.1061 - accuracy: 0.7527 - val_loss: 1.1616 - val_accuracy: 0.7300\n",
            "Epoch 4/20\n",
            "16/16 [==============================] - 1s 47ms/step - loss: 0.8815 - accuracy: 0.8048 - val_loss: 1.0387 - val_accuracy: 0.7830\n",
            "Epoch 5/20\n",
            "16/16 [==============================] - 1s 47ms/step - loss: 0.7056 - accuracy: 0.8502 - val_loss: 0.9695 - val_accuracy: 0.7970\n",
            "Epoch 6/20\n",
            "16/16 [==============================] - 1s 46ms/step - loss: 0.5527 - accuracy: 0.8847 - val_loss: 0.9328 - val_accuracy: 0.8050\n",
            "Epoch 7/20\n",
            "16/16 [==============================] - 1s 46ms/step - loss: 0.4330 - accuracy: 0.9143 - val_loss: 0.9081 - val_accuracy: 0.8070\n",
            "Epoch 8/20\n",
            "16/16 [==============================] - 1s 46ms/step - loss: 0.3381 - accuracy: 0.9301 - val_loss: 0.9147 - val_accuracy: 0.8120\n",
            "Epoch 9/20\n",
            "16/16 [==============================] - 1s 46ms/step - loss: 0.2853 - accuracy: 0.9399 - val_loss: 0.9171 - val_accuracy: 0.8130\n",
            "Epoch 10/20\n",
            "16/16 [==============================] - 1s 47ms/step - loss: 0.2333 - accuracy: 0.9498 - val_loss: 0.9210 - val_accuracy: 0.8210\n",
            "Epoch 11/20\n",
            "16/16 [==============================] - 1s 47ms/step - loss: 0.2133 - accuracy: 0.9489 - val_loss: 0.9641 - val_accuracy: 0.8000\n",
            "Epoch 12/20\n",
            "16/16 [==============================] - 1s 46ms/step - loss: 0.1809 - accuracy: 0.9553 - val_loss: 0.9281 - val_accuracy: 0.8220\n",
            "Epoch 13/20\n",
            "16/16 [==============================] - 1s 46ms/step - loss: 0.1577 - accuracy: 0.9584 - val_loss: 0.9675 - val_accuracy: 0.8100\n",
            "Epoch 14/20\n",
            "16/16 [==============================] - 1s 47ms/step - loss: 0.1434 - accuracy: 0.9592 - val_loss: 1.0062 - val_accuracy: 0.8110\n",
            "Epoch 15/20\n",
            "16/16 [==============================] - 1s 48ms/step - loss: 0.1349 - accuracy: 0.9585 - val_loss: 1.0082 - val_accuracy: 0.8070\n",
            "Epoch 16/20\n",
            "16/16 [==============================] - 1s 47ms/step - loss: 0.1239 - accuracy: 0.9607 - val_loss: 1.0296 - val_accuracy: 0.8030\n",
            "Epoch 17/20\n",
            "16/16 [==============================] - 1s 47ms/step - loss: 0.1135 - accuracy: 0.9631 - val_loss: 1.0312 - val_accuracy: 0.8080\n",
            "Epoch 18/20\n",
            "16/16 [==============================] - 1s 47ms/step - loss: 0.1214 - accuracy: 0.9570 - val_loss: 1.0506 - val_accuracy: 0.8070\n",
            "Epoch 19/20\n",
            "16/16 [==============================] - 1s 46ms/step - loss: 0.1007 - accuracy: 0.9619 - val_loss: 1.0384 - val_accuracy: 0.8090\n",
            "Epoch 20/20\n",
            "16/16 [==============================] - 1s 46ms/step - loss: 0.1010 - accuracy: 0.9610 - val_loss: 1.0773 - val_accuracy: 0.8070\n"
          ],
          "name": "stdout"
        }
      ]
    },
    {
      "cell_type": "markdown",
      "metadata": {
        "id": "vpV-l0Bs7_5M"
      },
      "source": [
        "# Plotting to find the best epoch value\n",
        "\n",
        "The `model_summary` value contains a parameter history which has the values of the loss and accuracy of the training and the validation. We will be using the parameters to attain the optimised value of the epoch for building the model."
      ]
    },
    {
      "cell_type": "code",
      "metadata": {
        "colab": {
          "base_uri": "https://localhost:8080/"
        },
        "id": "GktijOn38A-5",
        "outputId": "e438656b-723b-46cb-a602-b022ab87e423"
      },
      "source": [
        "history_dict = model_summary.history\n",
        "print(history_dict.keys())"
      ],
      "execution_count": 14,
      "outputs": [
        {
          "output_type": "stream",
          "text": [
            "dict_keys(['loss', 'accuracy', 'val_loss', 'val_accuracy'])\n"
          ],
          "name": "stdout"
        }
      ]
    },
    {
      "cell_type": "code",
      "metadata": {
        "id": "eB3UOJeP8Dmz"
      },
      "source": [
        "import matplotlib.pyplot as plt\n",
        "import seaborn as sns\n"
      ],
      "execution_count": 15,
      "outputs": []
    },
    {
      "cell_type": "code",
      "metadata": {
        "colab": {
          "base_uri": "https://localhost:8080/",
          "height": 497
        },
        "id": "df5JTDSy8Fp6",
        "outputId": "45b81908-f4a7-4a35-f602-1be136a5da73"
      },
      "source": [
        "loss_values = history_dict['loss']\n",
        "val_loss_values = history_dict['val_loss']\n",
        "epochs = range(1, len(loss_values)+1)\n",
        "\n",
        "plt.figure(figsize = (14,8))\n",
        "sns.lineplot(x = epochs, y = loss_values, color = 'blue', label = 'training loss')\n",
        "sns.scatterplot(x = epochs, y = val_loss_values, color = 'red', label = 'validation loss')\n",
        "plt.legend()\n",
        "plt.xlabel('Epochs')\n",
        "plt.ylabel('Loss')\n",
        "plt.show()"
      ],
      "execution_count": 16,
      "outputs": [
        {
          "output_type": "display_data",
          "data": {
            "image/png": "[encoded data removed]",
            "text/plain": [
              "<Figure size 1008x576 with 1 Axes>"
            ]
          },
          "metadata": {
            "tags": [],
            "needs_background": "light"
          }
        }
      ]
    },
    {
      "cell_type": "code",
      "metadata": {
        "colab": {
          "base_uri": "https://localhost:8080/",
          "height": 497
        },
        "id": "VpzcCyJB8Iny",
        "outputId": "023ded48-99ae-45db-aba1-8ee97edd9787"
      },
      "source": [
        "acc_values = history_dict['accuracy']\n",
        "val_acc_values = history_dict['val_accuracy']\n",
        "epochs = range(1, len(acc_values)+1)\n",
        "\n",
        "plt.figure(figsize = (14,8))\n",
        "sns.lineplot(x = epochs, y = acc_values, color = 'blue', label = 'training accuracy')\n",
        "sns.scatterplot(x = epochs, y = val_acc_values, color = 'red', label = 'validation accuracy')\n",
        "plt.legend()\n",
        "plt.xlabel('Epochs')\n",
        "plt.ylabel('accuracy')\n",
        "plt.show()"
      ],
      "execution_count": 17,
      "outputs": [
        {
          "output_type": "display_data",
          "data": {
            "image/png": "[encoded data removed]",
            "text/plain": [
              "<Figure size 1008x576 with 1 Axes>"
            ]
          },
          "metadata": {
            "tags": [],
            "needs_background": "light"
          }
        }
      ]
    },
    {
      "cell_type": "markdown",
      "metadata": {
        "id": "ub6k0eDE88N9"
      },
      "source": [
        "We can see that the loss starts increasing and the accuracy starts decreasing from around after the 9th epoch for the validation data.\n",
        "\n",
        "Hence, we can build our model afresh using the epoch value to be 9."
      ]
    },
    {
      "cell_type": "code",
      "metadata": {
        "colab": {
          "base_uri": "https://localhost:8080/"
        },
        "id": "3_sL7Ray9PBH",
        "outputId": "6444009d-4f0a-4e26-ec3a-492a527880a3"
      },
      "source": [
        "model = models.Sequential()\n",
        "model.add(layers.Dense(64, activation = 'tanh', input_shape = ((10000,))))\n",
        "model.add(layers.Dense(64, activation = 'tanh'))\n",
        "model.add(layers.Dense(46, activation = 'softmax'))\n",
        "model.compile(optimizer='rmsprop', loss='categorical_crossentropy', metrics=['accuracy'])\n",
        "model.fit(partial_x_train, partial_y_train, epochs = 6, batch_size = 512, validation_data=(x_val,y_val))"
      ],
      "execution_count": 26,
      "outputs": [
        {
          "output_type": "stream",
          "text": [
            "Epoch 1/6\n",
            "16/16 [==============================] - 2s 63ms/step - loss: 2.8502 - accuracy: 0.4580 - val_loss: 1.6162 - val_accuracy: 0.6490\n",
            "Epoch 2/6\n",
            "16/16 [==============================] - 1s 46ms/step - loss: 1.3831 - accuracy: 0.7140 - val_loss: 1.2379 - val_accuracy: 0.7280\n",
            "Epoch 3/6\n",
            "16/16 [==============================] - 1s 47ms/step - loss: 1.0191 - accuracy: 0.7934 - val_loss: 1.0693 - val_accuracy: 0.7670\n",
            "Epoch 4/6\n",
            "16/16 [==============================] - 1s 46ms/step - loss: 0.7678 - accuracy: 0.8527 - val_loss: 0.9600 - val_accuracy: 0.8060\n",
            "Epoch 5/6\n",
            "16/16 [==============================] - 1s 46ms/step - loss: 0.6065 - accuracy: 0.8929 - val_loss: 0.8909 - val_accuracy: 0.8220\n",
            "Epoch 6/6\n",
            "16/16 [==============================] - 1s 46ms/step - loss: 0.4595 - accuracy: 0.9182 - val_loss: 0.8503 - val_accuracy: 0.8230\n"
          ],
          "name": "stdout"
        },
        {
          "output_type": "execute_result",
          "data": {
            "text/plain": [
              "<keras.callbacks.History at 0x7f1fcaf35c90>"
            ]
          },
          "metadata": {
            "tags": []
          },
          "execution_count": 26
        }
      ]
    },
    {
      "cell_type": "code",
      "metadata": {
        "colab": {
          "base_uri": "https://localhost:8080/"
        },
        "id": "rtKjjJi79cRy",
        "outputId": "8402cad4-840a-45e1-f861-71522fb82373"
      },
      "source": [
        "result = model.evaluate(x_test,y_test) #to evaluate the prediction capacity of our model on the test data.\n",
        "print(result)"
      ],
      "execution_count": 27,
      "outputs": [
        {
          "output_type": "stream",
          "text": [
            "71/71 [==============================] - 0s 3ms/step - loss: 0.9225 - accuracy: 0.7952\n",
            "[0.9225114583969116, 0.7951914668083191]\n"
          ],
          "name": "stdout"
        }
      ]
    },
    {
      "cell_type": "code",
      "metadata": {
        "id": "QiFdWjjP9hFI"
      },
      "source": [
        ""
      ],
      "execution_count": null,
      "outputs": []
    }
  ]
}