{
 "cells": [
  {
   "cell_type": "markdown",
   "metadata": {},
   "source": [
    "# Sentiment Analysis using RNN"
   ]
  },
  {
   "cell_type": "markdown",
   "metadata": {},
   "source": [
    "We will be implementing a Reccurrent Neural Network for basic sentiment analysis using only numpy."
   ]
  },
  {
   "cell_type": "markdown",
   "metadata": {},
   "source": [
    "This notebook is to emphasise the generation and usage of a RNN from scratch hence we will just use a small sample dataset."
   ]
  },
  {
   "cell_type": "code",
   "execution_count": 61,
   "metadata": {},
   "outputs": [],
   "source": [
    "train_data = {\n",
    "  'good': True,\n",
    "  'bad': False,\n",
    "  'happy': True,\n",
    "  'sad': False,\n",
    "  'not good': False,\n",
    "  'not bad': True,\n",
    "  'not happy': False,\n",
    "  'not sad': True,\n",
    "  'very good': True,\n",
    "  'very bad': False,\n",
    "  'very happy': True,\n",
    "  'very sad': False,\n",
    "  'i am happy': True,\n",
    "  'this is good': True,\n",
    "  'i am bad': False,\n",
    "  'this is bad': False,\n",
    "  'i am sad': False,\n",
    "  'this is sad': False,\n",
    "  'i am not happy': False,\n",
    "  'this is not good': False,\n",
    "  'i am not bad': True,\n",
    "  'this is not sad': True,\n",
    "  'i am very happy': True,\n",
    "  'this is very good': True,\n",
    "  'i am very bad': False,\n",
    "  'this is very sad': False,\n",
    "  'this is very happy': True,\n",
    "  'i am good not bad': True,\n",
    "  'this is good not bad': True,\n",
    "  'i am bad not good': False,\n",
    "  'i am good and happy': True,\n",
    "  'this is not good and not happy': False,\n",
    "  'i am not at all good': False,\n",
    "  'i am not at all bad': True,\n",
    "  'i am not at all happy': False,\n",
    "  'this is not at all sad': True,\n",
    "  'this is not at all happy': False,\n",
    "  'i am good right now': True,\n",
    "  'i am bad right now': False,\n",
    "  'this is bad right now': False,\n",
    "  'i am sad right now': False,\n",
    "  'i was good earlier': True,\n",
    "  'i was happy earlier': True,\n",
    "  'i was bad earlier': False,\n",
    "  'i was sad earlier': False,\n",
    "  'i am very bad right now': False,\n",
    "  'this is very good right now': True,\n",
    "  'this is very sad right now': False,\n",
    "  'this was bad earlier': False,\n",
    "  'this was very good earlier': True,\n",
    "  'this was very bad earlier': False,\n",
    "  'this was very happy earlier': True,\n",
    "  'this was very sad earlier': False,\n",
    "  'i was good and not bad earlier': True,\n",
    "  'i was not good and not happy earlier': False,\n",
    "  'i am not at all bad or sad right now': True,\n",
    "  'i am not at all good or happy right now': False,\n",
    "  'this was not happy and not good earlier': False,\n",
    "}\n",
    "\n",
    "test_data = {\n",
    "  'this is happy': True,\n",
    "  'i am good': True,\n",
    "  'this is not happy': False,\n",
    "  'i am not good': False,\n",
    "  'this is not bad': True,\n",
    "  'i am not sad': True,\n",
    "  'i am very good': True,\n",
    "  'this is very bad': False,\n",
    "  'i am very sad': False,\n",
    "  'this is bad not good': False,\n",
    "  'this is good and happy': True,\n",
    "  'i am not good and not happy': False,\n",
    "  'i am not at all sad': True,\n",
    "  'this is not at all good': False,\n",
    "  'this is not at all bad': True,\n",
    "  'this is good right now': True,\n",
    "  'this is sad right now': False,\n",
    "  'this is very bad right now': False,\n",
    "  'this was good earlier': True,\n",
    "  'i was not happy and not good earlier': False,\n",
    "}"
   ]
  },
  {
   "cell_type": "markdown",
   "metadata": {},
   "source": [
    "## Preprocessing"
   ]
  },
  {
   "cell_type": "markdown",
   "metadata": {},
   "source": [
    "We'll have to deal with the data that we have stored ealier. For this : \n",
    " - we first develop a vocabulary of all the words we used in the train data.\n",
    " - we assign an integer index for each of the word in the vocabulary\n",
    " - we use one hot encoding to generate a vector for each of the word rather than just an index."
   ]
  },
  {
   "cell_type": "code",
   "execution_count": 62,
   "metadata": {},
   "outputs": [],
   "source": [
    "#develop vocabulary\n",
    "vocab = list(set([word for phrase in train_data.keys() for word in phrase.split(' ') ]))\n",
    "vocab_size = len(vocab)"
   ]
  },
  {
   "cell_type": "code",
   "execution_count": 63,
   "metadata": {},
   "outputs": [
    {
     "name": "stdout",
     "output_type": "stream",
     "text": [
      "15\n",
      "bad\n"
     ]
    }
   ],
   "source": [
    "#assign integer index\n",
    "word_to_idx = { word: index for index, word in enumerate(vocab) }\n",
    "idx_to_word = { index: word for index, word in enumerate(vocab) }\n",
    "print(word_to_idx['good'])\n",
    "print(idx_to_word[0])"
   ]
  },
  {
   "cell_type": "code",
   "execution_count": 64,
   "metadata": {},
   "outputs": [],
   "source": [
    "#Create one hot vectors for each word in a phrase\n",
    "import numpy as np\n",
    "\n",
    "def createInputs(phrase):\n",
    "    inputs = []\n",
    "    for word in phrase.split(' '):\n",
    "        vec = np.zeros((vocab_size, 1))\n",
    "        vec[word_to_idx[word]] = 1\n",
    "        inputs.append(vec)\n",
    "    return inputs"
   ]
  },
  {
   "cell_type": "markdown",
   "metadata": {},
   "source": [
    "## Forward Phase"
   ]
  },
  {
   "cell_type": "markdown",
   "metadata": {},
   "source": [
    "It's time to add in our 3 weights and the 2 biases to our network parameters.\n",
    "The 3 weights are:\n",
    " - **Whh** : The weight vector used for all the h_t-1 -> h_t links\n",
    " - **Wxh** : The weight vector used for all the x -> h_t links\n",
    " - **Why** : The weight vector used for all the h_t -> y links\n",
    "\n",
    "The 2 biases are:\n",
    " - **bh** : The bias added in the x -> h link\n",
    " - **by** : The bias added in the h -> y link"
   ]
  },
  {
   "cell_type": "markdown",
   "metadata": {},
   "source": [
    "<center>$ h_t = tanh(W_{xh}x_t + W_{hh}h_{t-1} + b_h)$</center>\n",
    "<center>$ y_t = W_{hy}h_t + b_y$ </center>"
   ]
  },
  {
   "cell_type": "code",
   "execution_count": 65,
   "metadata": {},
   "outputs": [],
   "source": [
    "from numpy.random import randn\n",
    "class RNN:\n",
    "    def __init__(self, input_size, output_size, hidden_size=64):\n",
    "        # Weights\n",
    "        self.Whh = randn(hidden_size, hidden_size) / 1000\n",
    "        self.Wxh = randn(hidden_size, input_size) / 1000\n",
    "        self.Why = randn(output_size, hidden_size) / 1000\n",
    "\n",
    "        # Biases\n",
    "        self.bh = np.zeros((hidden_size, 1))\n",
    "        self.by = np.zeros((output_size, 1))\n",
    "\n",
    "    def forward(self, inputs):\n",
    "        h = np.zeros((self.Whh.shape[0], 1))\n",
    "\n",
    "\n",
    "        #These are used for the backpropagation\n",
    "        self.last_inputs = inputs\n",
    "        self.last_hs = { 0: h }\n",
    "\n",
    "        # Perform each step of the RNN\n",
    "        iteration = 1\n",
    "        for i, x in enumerate(inputs):\n",
    "\n",
    "            h = np.tanh(self.Wxh @ x + self.Whh @ h + self.bh)\n",
    "\n",
    "            self.last_hs[i + 1] = h\n",
    "            iteration += 1\n",
    "\n",
    "        # Compute the output\n",
    "        y = self.Why @ h + self.by\n",
    "\n",
    "        return y, h\n",
    "\n",
    "    def backprop(self, d_y, learn_rate=2e-2):\n",
    "\n",
    "        n = len(self.last_inputs)\n",
    "\n",
    "        # Calculate dL/dWhy and dL/dby.\n",
    "        d_Why = d_y @ self.last_hs[n].T\n",
    "        d_by = d_y\n",
    "\n",
    "        # Initialize dL/dWhh, dL/dWxh, and dL/dbh to zero.\n",
    "        d_Whh = np.zeros(self.Whh.shape)\n",
    "        d_Wxh = np.zeros(self.Wxh.shape)\n",
    "        d_bh = np.zeros(self.bh.shape)\n",
    "\n",
    "        # Calculate dL/dh for the last h.\n",
    "        # dL/dh = dL/dy * dy/dh\n",
    "        d_h = self.Why.T @ d_y\n",
    "\n",
    "        # Backpropagate through time.\n",
    "        for t in reversed(range(n)):\n",
    "            # An intermediate value: dL/dh * (1 - h^2)\n",
    "            temp = ((1 - self.last_hs[t + 1] ** 2) * d_h)\n",
    "\n",
    "            # dL/db = dL/dh * (1 - h^2)\n",
    "            d_bh += temp\n",
    "\n",
    "            # dL/dWhh = dL/dh * (1 - h^2) * h_{t-1}\n",
    "            d_Whh += temp @ self.last_hs[t].T\n",
    "\n",
    "            # dL/dWxh = dL/dh * (1 - h^2) * x\n",
    "            d_Wxh += temp @ self.last_inputs[t].T\n",
    "\n",
    "            # Next dL/dh = dL/dh * (1 - h^2) * Whh\n",
    "            d_h = self.Whh @ temp\n",
    "\n",
    "        # Clip to prevent exploding gradients.\n",
    "        for d in [d_Wxh, d_Whh, d_Why, d_bh, d_by]:\n",
    "            np.clip(d, -1, 1, out=d)\n",
    "\n",
    "        # Update weights and biases using gradient descent.\n",
    "        self.Whh -= learn_rate * d_Whh\n",
    "        self.Wxh -= learn_rate * d_Wxh\n",
    "        self.Why -= learn_rate * d_Why\n",
    "        self.bh -= learn_rate * d_bh\n",
    "        self.by -= learn_rate * d_by\n",
    "\n",
    "        \n",
    "        "
   ]
  },
  {
   "cell_type": "code",
   "execution_count": 66,
   "metadata": {},
   "outputs": [],
   "source": [
    "def softmax(xs):\n",
    "  # Applies the Softmax Function to the input array.\n",
    "  return np.exp(xs) / sum(np.exp(xs))"
   ]
  },
  {
   "cell_type": "markdown",
   "metadata": {},
   "source": [
    "## Backpropagation"
   ]
  },
  {
   "cell_type": "markdown",
   "metadata": {},
   "source": [
    "Now let's perform the math required for the backpropogation.\n",
    "<br>\n",
    "<center>$\\Large y = W_{hy}h_n + b_y$ </center>\n",
    "<br>\n",
    "<center>$\\Large \\frac{\\partial L}{\\partial W_{hy}} = \\frac{\\partial L}{\\partial y} * \\frac{\\partial y}{\\partial W_{hy}}    $</center>\n",
    "<br>\n",
    "Hence, <center>$\\Large \\frac{\\partial L}{\\partial W_{hy}} = \\frac{\\partial L}{\\partial y} * h_n$</center>\n",
    "and\n",
    "<center>$\\Large \\frac{\\partial L}{\\partial b_y} = \\frac{\\partial L}{\\partial y}$</center>"
   ]
  },
  {
   "cell_type": "markdown",
   "metadata": {},
   "source": [
    "Now let's perform the math for calculating the gradients of the other weights and biases for the backpropagation."
   ]
  },
  {
   "cell_type": "markdown",
   "metadata": {},
   "source": [
    "<center>$\\Large \\frac{\\partial L}{\\partial W_{xh}} = \\frac{\\partial L}{\\partial y} * \\sum \\limits _{t} \\frac{\\partial y}{\\partial h_t} *  \\frac{\\partial h_t}{\\partial W_{xh}} $</center>   "
   ]
  },
  {
   "cell_type": "markdown",
   "metadata": {},
   "source": [
    "<center>$\\Large h_t = tanh(W_{xh}x_t + W_{hh}h_{t-1} + b_h)$</center>"
   ]
  },
  {
   "cell_type": "markdown",
   "metadata": {},
   "source": [
    "<center>$\\Large \\frac{dtanh(x)}{dx} = 1 - {tanh}^{2}(x) $</center>"
   ]
  },
  {
   "cell_type": "markdown",
   "metadata": {},
   "source": [
    "<center>$\\Large \\frac{\\partial h_t}{\\partial W_{xh}} = (1 - {h_t}^2)x_t $ <br>\n",
    "    $\\Large \\frac{\\partial h_t}{\\partial W_{hh}} = (1 - {h_t}^2)h_{t-1}$ <br>\n",
    "    $\\Large \\frac{\\partial h_t}{\\partial b_h} = (1 - {h_t}^2)$ </center>"
   ]
  },
  {
   "cell_type": "markdown",
   "metadata": {},
   "source": [
    "<center>$\\Large \\frac{\\partial y}{\\partial h_t} = \\frac{\\partial y}{h_{t+1}} * \\frac{\\partial h_{t+1}}{\\partial h_t} $ <br>\n",
    "    $\\Large  = \\frac{\\partial y}{\\partial h_{t+1}} * (1 - {h_t}^2)W_{hh}$ <br>\n",
    "    $\\Large \\frac{\\partial y}{\\partial h_n} = W_{hy}$ </center>"
   ]
  },
  {
   "cell_type": "markdown",
   "metadata": {},
   "source": [
    "## Testing the accuracy of the model"
   ]
  },
  {
   "cell_type": "code",
   "execution_count": 67,
   "metadata": {},
   "outputs": [],
   "source": [
    "import random\n",
    "rnn = RNN(vocab_size, 2)\n",
    "\n"
   ]
  },
  {
   "cell_type": "code",
   "execution_count": 68,
   "metadata": {},
   "outputs": [],
   "source": [
    "def processData(data, backprop=True):\n",
    "\n",
    "    items = list(data.items())\n",
    "\n",
    "    random.shuffle(items)\n",
    "\n",
    "    loss = 0\n",
    "    num_correct = 0\n",
    "          \n",
    "\n",
    "          \n",
    "    for x, y in items:\n",
    "\n",
    "        inputs = createInputs(x)\n",
    "\n",
    "        target = int(y)\n",
    "\n",
    "\n",
    "        # Forward\n",
    "        out, _ = rnn.forward(inputs)\n",
    "        probs = softmax(out)\n",
    "        \n",
    "\n",
    "        # Calculate loss / accuracy\n",
    "        loss -= np.log(probs[target])\n",
    "\n",
    "        num_correct += int(np.argmax(probs) == target)\n",
    "\n",
    "\n",
    "        if backprop:\n",
    "            # Build dL/dy\n",
    "            d_L_d_y = probs\n",
    "            d_L_d_y[target] -= 1\n",
    "\n",
    "            # Backward\n",
    "            rnn.backprop(d_L_d_y)\n",
    "\n",
    "\n",
    "    return loss / len(data), num_correct / len(data)\n"
   ]
  },
  {
   "cell_type": "code",
   "execution_count": 69,
   "metadata": {
    "scrolled": true
   },
   "outputs": [
    {
     "name": "stdout",
     "output_type": "stream",
     "text": [
      "--- Epoch 100\n",
      "Train:\tLoss 0.687 | Accuracy: 0.552\n",
      "Test:\tLoss 0.697 | Accuracy: 0.500\n",
      "--- Epoch 200\n",
      "Train:\tLoss 0.670 | Accuracy: 0.603\n",
      "Test:\tLoss 0.719 | Accuracy: 0.550\n",
      "--- Epoch 300\n",
      "Train:\tLoss 0.517 | Accuracy: 0.810\n",
      "Test:\tLoss 0.650 | Accuracy: 0.550\n",
      "--- Epoch 400\n",
      "Train:\tLoss 0.365 | Accuracy: 0.862\n",
      "Test:\tLoss 0.670 | Accuracy: 0.650\n",
      "--- Epoch 500\n",
      "Train:\tLoss 0.360 | Accuracy: 0.845\n",
      "Test:\tLoss 0.685 | Accuracy: 0.550\n",
      "--- Epoch 600\n",
      "Train:\tLoss 0.304 | Accuracy: 0.879\n",
      "Test:\tLoss 0.966 | Accuracy: 0.600\n",
      "--- Epoch 700\n",
      "Train:\tLoss 0.355 | Accuracy: 0.810\n",
      "Test:\tLoss 0.452 | Accuracy: 0.800\n",
      "--- Epoch 800\n",
      "Train:\tLoss 0.432 | Accuracy: 0.862\n",
      "Test:\tLoss 0.236 | Accuracy: 0.950\n",
      "--- Epoch 900\n",
      "Train:\tLoss 0.011 | Accuracy: 1.000\n",
      "Test:\tLoss 0.290 | Accuracy: 0.950\n",
      "--- Epoch 1000\n",
      "Train:\tLoss 0.003 | Accuracy: 1.000\n",
      "Test:\tLoss 0.352 | Accuracy: 0.950\n"
     ]
    }
   ],
   "source": [
    "for epoch in range(1000):\n",
    "    train_loss, train_acc = processData(train_data)\n",
    "\n",
    "    if epoch % 100 == 99:\n",
    "        print('--- Epoch %d' % (epoch + 1))\n",
    "        print('Train:\\tLoss %.3f | Accuracy: %.3f' % (train_loss, train_acc))\n",
    "\n",
    "        test_loss, test_acc = processData(test_data, backprop=False)\n",
    "        print('Test:\\tLoss %.3f | Accuracy: %.3f' % (test_loss, test_acc))"
   ]
  }
 ],
 "metadata": {
  "kernelspec": {
   "display_name": "Python 3",
   "language": "python",
   "name": "python3"
  },
  "language_info": {
   "codemirror_mode": {
    "name": "ipython",
    "version": 3
   },
   "file_extension": ".py",
   "mimetype": "text/x-python",
   "name": "python",
   "nbconvert_exporter": "python",
   "pygments_lexer": "ipython3",
   "version": "3.8.5"
  },
  "latex_envs": {
   "LaTeX_envs_menu_present": true,
   "autoclose": false,
   "autocomplete": true,
   "bibliofile": "biblio.bib",
   "cite_by": "apalike",
   "current_citInitial": 1,
   "eqLabelWithNumbers": true,
   "eqNumInitial": 1,
   "hotkeys": {
    "equation": "Ctrl-E",
    "itemize": "Ctrl-I"
   },
   "labels_anchors": false,
   "latex_user_defs": false,
   "report_style_numbering": false,
   "user_envs_cfg": false
  },
  "toc": {
   "base_numbering": 1,
   "nav_menu": {},
   "number_sections": true,
   "sideBar": true,
   "skip_h1_title": true,
   "title_cell": "Table of Contents",
   "title_sidebar": "Contents",
   "toc_cell": false,
   "toc_position": {},
   "toc_section_display": true,
   "toc_window_display": false
  }
 },
 "nbformat": 4,
 "nbformat_minor": 4
}
